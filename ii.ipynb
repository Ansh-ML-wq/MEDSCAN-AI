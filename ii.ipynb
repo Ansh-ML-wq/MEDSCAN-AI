{
 "cells": [
  {
   "cell_type": "code",
   "execution_count": 5,
   "metadata": {},
   "outputs": [],
   "source": [
    "import pandas as pd\n",
    "import numpy as np \n",
    "import seaborn as sns\n",
    "\n",
    "import plotly.express as px\n",
    "import plotly.graph_objects as go\n",
    "import plotly.figure_factory as ff\n",
    "from plotly.subplots import make_subplots\n",
    "\n",
    "import matplotlib.pyplot as plt\n",
    "%matplotlib inline \n",
    "\n",
    "import warnings\n",
    "warnings.filterwarnings('ignore')"
   ]
  },
  {
   "cell_type": "code",
   "execution_count": 6,
   "metadata": {},
   "outputs": [
    {
     "name": "stdout",
     "output_type": "stream",
     "text": [
      "(16412, 4)\n"
     ]
    }
   ],
   "source": [
    "df = pd.read_csv(\"medquad.csv\")\n",
    "print(df.shape)"
   ]
  },
  {
   "cell_type": "code",
   "execution_count": 7,
   "metadata": {},
   "outputs": [
    {
     "data": {
      "application/vnd.plotly.v1+json": {
       "config": {
        "plotlyServerURL": "https://plot.ly"
       },
       "data": [
        {
         "labels": [
          "Breast Cancer",
          "Prostate Cancer",
          "Stroke",
          "Skin Cancer",
          "Alzheimer's Disease",
          "Colorectal Cancer",
          "Lung Cancer",
          "Causes of Diabetes",
          "Heart Failure",
          "High Blood Cholesterol",
          "Heart Attack",
          "High Blood Pressure",
          "Parkinson's Disease",
          "Leukemia",
          "Shingles",
          "Osteoporosis",
          "Age-related Macular Degeneration",
          "Diabetes",
          "Hemochromatosis",
          "Diabetic Retinopathy",
          "Psoriasis",
          "Gum (Periodontal) Disease",
          "Kidney Disease",
          "Dry Mouth",
          "Balance Problems",
          "Cataract",
          "COPD"
         ],
         "type": "pie",
         "values": {
          "bdata": "NSsjIh4dHRwcHBwbGRYVFRQUFBMTExEQEBAQ",
          "dtype": "i1"
         }
        }
       ],
       "layout": {
        "font": {
         "size": 16
        },
        "height": 800,
        "template": {
         "data": {
          "bar": [
           {
            "error_x": {
             "color": "#2a3f5f"
            },
            "error_y": {
             "color": "#2a3f5f"
            },
            "marker": {
             "line": {
              "color": "#E5ECF6",
              "width": 0.5
             },
             "pattern": {
              "fillmode": "overlay",
              "size": 10,
              "solidity": 0.2
             }
            },
            "type": "bar"
           }
          ],
          "barpolar": [
           {
            "marker": {
             "line": {
              "color": "#E5ECF6",
              "width": 0.5
             },
             "pattern": {
              "fillmode": "overlay",
              "size": 10,
              "solidity": 0.2
             }
            },
            "type": "barpolar"
           }
          ],
          "carpet": [
           {
            "aaxis": {
             "endlinecolor": "#2a3f5f",
             "gridcolor": "white",
             "linecolor": "white",
             "minorgridcolor": "white",
             "startlinecolor": "#2a3f5f"
            },
            "baxis": {
             "endlinecolor": "#2a3f5f",
             "gridcolor": "white",
             "linecolor": "white",
             "minorgridcolor": "white",
             "startlinecolor": "#2a3f5f"
            },
            "type": "carpet"
           }
          ],
          "choropleth": [
           {
            "colorbar": {
             "outlinewidth": 0,
             "ticks": ""
            },
            "type": "choropleth"
           }
          ],
          "contour": [
           {
            "colorbar": {
             "outlinewidth": 0,
             "ticks": ""
            },
            "colorscale": [
             [
              0,
              "#0d0887"
             ],
             [
              0.1111111111111111,
              "#46039f"
             ],
             [
              0.2222222222222222,
              "#7201a8"
             ],
             [
              0.3333333333333333,
              "#9c179e"
             ],
             [
              0.4444444444444444,
              "#bd3786"
             ],
             [
              0.5555555555555556,
              "#d8576b"
             ],
             [
              0.6666666666666666,
              "#ed7953"
             ],
             [
              0.7777777777777778,
              "#fb9f3a"
             ],
             [
              0.8888888888888888,
              "#fdca26"
             ],
             [
              1,
              "#f0f921"
             ]
            ],
            "type": "contour"
           }
          ],
          "contourcarpet": [
           {
            "colorbar": {
             "outlinewidth": 0,
             "ticks": ""
            },
            "type": "contourcarpet"
           }
          ],
          "heatmap": [
           {
            "colorbar": {
             "outlinewidth": 0,
             "ticks": ""
            },
            "colorscale": [
             [
              0,
              "#0d0887"
             ],
             [
              0.1111111111111111,
              "#46039f"
             ],
             [
              0.2222222222222222,
              "#7201a8"
             ],
             [
              0.3333333333333333,
              "#9c179e"
             ],
             [
              0.4444444444444444,
              "#bd3786"
             ],
             [
              0.5555555555555556,
              "#d8576b"
             ],
             [
              0.6666666666666666,
              "#ed7953"
             ],
             [
              0.7777777777777778,
              "#fb9f3a"
             ],
             [
              0.8888888888888888,
              "#fdca26"
             ],
             [
              1,
              "#f0f921"
             ]
            ],
            "type": "heatmap"
           }
          ],
          "histogram": [
           {
            "marker": {
             "pattern": {
              "fillmode": "overlay",
              "size": 10,
              "solidity": 0.2
             }
            },
            "type": "histogram"
           }
          ],
          "histogram2d": [
           {
            "colorbar": {
             "outlinewidth": 0,
             "ticks": ""
            },
            "colorscale": [
             [
              0,
              "#0d0887"
             ],
             [
              0.1111111111111111,
              "#46039f"
             ],
             [
              0.2222222222222222,
              "#7201a8"
             ],
             [
              0.3333333333333333,
              "#9c179e"
             ],
             [
              0.4444444444444444,
              "#bd3786"
             ],
             [
              0.5555555555555556,
              "#d8576b"
             ],
             [
              0.6666666666666666,
              "#ed7953"
             ],
             [
              0.7777777777777778,
              "#fb9f3a"
             ],
             [
              0.8888888888888888,
              "#fdca26"
             ],
             [
              1,
              "#f0f921"
             ]
            ],
            "type": "histogram2d"
           }
          ],
          "histogram2dcontour": [
           {
            "colorbar": {
             "outlinewidth": 0,
             "ticks": ""
            },
            "colorscale": [
             [
              0,
              "#0d0887"
             ],
             [
              0.1111111111111111,
              "#46039f"
             ],
             [
              0.2222222222222222,
              "#7201a8"
             ],
             [
              0.3333333333333333,
              "#9c179e"
             ],
             [
              0.4444444444444444,
              "#bd3786"
             ],
             [
              0.5555555555555556,
              "#d8576b"
             ],
             [
              0.6666666666666666,
              "#ed7953"
             ],
             [
              0.7777777777777778,
              "#fb9f3a"
             ],
             [
              0.8888888888888888,
              "#fdca26"
             ],
             [
              1,
              "#f0f921"
             ]
            ],
            "type": "histogram2dcontour"
           }
          ],
          "mesh3d": [
           {
            "colorbar": {
             "outlinewidth": 0,
             "ticks": ""
            },
            "type": "mesh3d"
           }
          ],
          "parcoords": [
           {
            "line": {
             "colorbar": {
              "outlinewidth": 0,
              "ticks": ""
             }
            },
            "type": "parcoords"
           }
          ],
          "pie": [
           {
            "automargin": true,
            "type": "pie"
           }
          ],
          "scatter": [
           {
            "fillpattern": {
             "fillmode": "overlay",
             "size": 10,
             "solidity": 0.2
            },
            "type": "scatter"
           }
          ],
          "scatter3d": [
           {
            "line": {
             "colorbar": {
              "outlinewidth": 0,
              "ticks": ""
             }
            },
            "marker": {
             "colorbar": {
              "outlinewidth": 0,
              "ticks": ""
             }
            },
            "type": "scatter3d"
           }
          ],
          "scattercarpet": [
           {
            "marker": {
             "colorbar": {
              "outlinewidth": 0,
              "ticks": ""
             }
            },
            "type": "scattercarpet"
           }
          ],
          "scattergeo": [
           {
            "marker": {
             "colorbar": {
              "outlinewidth": 0,
              "ticks": ""
             }
            },
            "type": "scattergeo"
           }
          ],
          "scattergl": [
           {
            "marker": {
             "colorbar": {
              "outlinewidth": 0,
              "ticks": ""
             }
            },
            "type": "scattergl"
           }
          ],
          "scattermap": [
           {
            "marker": {
             "colorbar": {
              "outlinewidth": 0,
              "ticks": ""
             }
            },
            "type": "scattermap"
           }
          ],
          "scattermapbox": [
           {
            "marker": {
             "colorbar": {
              "outlinewidth": 0,
              "ticks": ""
             }
            },
            "type": "scattermapbox"
           }
          ],
          "scatterpolar": [
           {
            "marker": {
             "colorbar": {
              "outlinewidth": 0,
              "ticks": ""
             }
            },
            "type": "scatterpolar"
           }
          ],
          "scatterpolargl": [
           {
            "marker": {
             "colorbar": {
              "outlinewidth": 0,
              "ticks": ""
             }
            },
            "type": "scatterpolargl"
           }
          ],
          "scatterternary": [
           {
            "marker": {
             "colorbar": {
              "outlinewidth": 0,
              "ticks": ""
             }
            },
            "type": "scatterternary"
           }
          ],
          "surface": [
           {
            "colorbar": {
             "outlinewidth": 0,
             "ticks": ""
            },
            "colorscale": [
             [
              0,
              "#0d0887"
             ],
             [
              0.1111111111111111,
              "#46039f"
             ],
             [
              0.2222222222222222,
              "#7201a8"
             ],
             [
              0.3333333333333333,
              "#9c179e"
             ],
             [
              0.4444444444444444,
              "#bd3786"
             ],
             [
              0.5555555555555556,
              "#d8576b"
             ],
             [
              0.6666666666666666,
              "#ed7953"
             ],
             [
              0.7777777777777778,
              "#fb9f3a"
             ],
             [
              0.8888888888888888,
              "#fdca26"
             ],
             [
              1,
              "#f0f921"
             ]
            ],
            "type": "surface"
           }
          ],
          "table": [
           {
            "cells": {
             "fill": {
              "color": "#EBF0F8"
             },
             "line": {
              "color": "white"
             }
            },
            "header": {
             "fill": {
              "color": "#C8D4E3"
             },
             "line": {
              "color": "white"
             }
            },
            "type": "table"
           }
          ]
         },
         "layout": {
          "annotationdefaults": {
           "arrowcolor": "#2a3f5f",
           "arrowhead": 0,
           "arrowwidth": 1
          },
          "autotypenumbers": "strict",
          "coloraxis": {
           "colorbar": {
            "outlinewidth": 0,
            "ticks": ""
           }
          },
          "colorscale": {
           "diverging": [
            [
             0,
             "#8e0152"
            ],
            [
             0.1,
             "#c51b7d"
            ],
            [
             0.2,
             "#de77ae"
            ],
            [
             0.3,
             "#f1b6da"
            ],
            [
             0.4,
             "#fde0ef"
            ],
            [
             0.5,
             "#f7f7f7"
            ],
            [
             0.6,
             "#e6f5d0"
            ],
            [
             0.7,
             "#b8e186"
            ],
            [
             0.8,
             "#7fbc41"
            ],
            [
             0.9,
             "#4d9221"
            ],
            [
             1,
             "#276419"
            ]
           ],
           "sequential": [
            [
             0,
             "#0d0887"
            ],
            [
             0.1111111111111111,
             "#46039f"
            ],
            [
             0.2222222222222222,
             "#7201a8"
            ],
            [
             0.3333333333333333,
             "#9c179e"
            ],
            [
             0.4444444444444444,
             "#bd3786"
            ],
            [
             0.5555555555555556,
             "#d8576b"
            ],
            [
             0.6666666666666666,
             "#ed7953"
            ],
            [
             0.7777777777777778,
             "#fb9f3a"
            ],
            [
             0.8888888888888888,
             "#fdca26"
            ],
            [
             1,
             "#f0f921"
            ]
           ],
           "sequentialminus": [
            [
             0,
             "#0d0887"
            ],
            [
             0.1111111111111111,
             "#46039f"
            ],
            [
             0.2222222222222222,
             "#7201a8"
            ],
            [
             0.3333333333333333,
             "#9c179e"
            ],
            [
             0.4444444444444444,
             "#bd3786"
            ],
            [
             0.5555555555555556,
             "#d8576b"
            ],
            [
             0.6666666666666666,
             "#ed7953"
            ],
            [
             0.7777777777777778,
             "#fb9f3a"
            ],
            [
             0.8888888888888888,
             "#fdca26"
            ],
            [
             1,
             "#f0f921"
            ]
           ]
          },
          "colorway": [
           "#636efa",
           "#EF553B",
           "#00cc96",
           "#ab63fa",
           "#FFA15A",
           "#19d3f3",
           "#FF6692",
           "#B6E880",
           "#FF97FF",
           "#FECB52"
          ],
          "font": {
           "color": "#2a3f5f"
          },
          "geo": {
           "bgcolor": "white",
           "lakecolor": "white",
           "landcolor": "#E5ECF6",
           "showlakes": true,
           "showland": true,
           "subunitcolor": "white"
          },
          "hoverlabel": {
           "align": "left"
          },
          "hovermode": "closest",
          "mapbox": {
           "style": "light"
          },
          "paper_bgcolor": "white",
          "plot_bgcolor": "#E5ECF6",
          "polar": {
           "angularaxis": {
            "gridcolor": "white",
            "linecolor": "white",
            "ticks": ""
           },
           "bgcolor": "#E5ECF6",
           "radialaxis": {
            "gridcolor": "white",
            "linecolor": "white",
            "ticks": ""
           }
          },
          "scene": {
           "xaxis": {
            "backgroundcolor": "#E5ECF6",
            "gridcolor": "white",
            "gridwidth": 2,
            "linecolor": "white",
            "showbackground": true,
            "ticks": "",
            "zerolinecolor": "white"
           },
           "yaxis": {
            "backgroundcolor": "#E5ECF6",
            "gridcolor": "white",
            "gridwidth": 2,
            "linecolor": "white",
            "showbackground": true,
            "ticks": "",
            "zerolinecolor": "white"
           },
           "zaxis": {
            "backgroundcolor": "#E5ECF6",
            "gridcolor": "white",
            "gridwidth": 2,
            "linecolor": "white",
            "showbackground": true,
            "ticks": "",
            "zerolinecolor": "white"
           }
          },
          "shapedefaults": {
           "line": {
            "color": "#2a3f5f"
           }
          },
          "ternary": {
           "aaxis": {
            "gridcolor": "white",
            "linecolor": "white",
            "ticks": ""
           },
           "baxis": {
            "gridcolor": "white",
            "linecolor": "white",
            "ticks": ""
           },
           "bgcolor": "#E5ECF6",
           "caxis": {
            "gridcolor": "white",
            "linecolor": "white",
            "ticks": ""
           }
          },
          "title": {
           "x": 0.05
          },
          "xaxis": {
           "automargin": true,
           "gridcolor": "white",
           "linecolor": "white",
           "ticks": "",
           "title": {
            "standoff": 15
           },
           "zerolinecolor": "white",
           "zerolinewidth": 2
          },
          "yaxis": {
           "automargin": true,
           "gridcolor": "white",
           "linecolor": "white",
           "ticks": "",
           "title": {
            "standoff": 15
           },
           "zerolinecolor": "white",
           "zerolinewidth": 2
          }
         }
        },
        "title": {
         "text": "Pie Chart of Focus Areas"
        },
        "width": 1200
       }
      }
     },
     "metadata": {},
     "output_type": "display_data"
    }
   ],
   "source": [
    "import pandas as pd\n",
    "import plotly.graph_objects as go\n",
    "\n",
    "value_counts = df['focus_area'].value_counts()\n",
    "result = value_counts[value_counts > 15]\n",
    "\n",
    "fig = go.Figure(data=[go.Pie(labels=result.index, values=result.values)])\n",
    "fig.update_layout(title='Pie Chart of Focus Areas', width=1200, height=800, font=dict(size=16))\n",
    "fig.show()"
   ]
  },
  {
   "cell_type": "code",
   "execution_count": 8,
   "metadata": {},
   "outputs": [
    {
     "name": "stdout",
     "output_type": "stream",
     "text": [
      "\u001b[1;35mThe question is: What is (are) Glaucoma ?\u001b[0m\n",
      "\u001b[1;35m The answer is: Glaucoma is a group of diseases that can damage the eye's optic nerve and result in vision loss and blindness. While glaucoma can strike anyone, the risk is much greater for people over 60. How Glaucoma Develops  There are several different types of glaucoma. Most of these involve the drainage system within the eye. At the front of the eye there is a small space called the anterior chamber. A clear fluid flows through this chamber and bathes and nourishes the nearby tissues. (Watch the video to learn more about glaucoma. To enlarge the video, click the brackets in the lower right-hand corner. To reduce the video, press the Escape (Esc) button on your keyboard.) In glaucoma, for still unknown reasons, the fluid drains too slowly out of the eye. As the fluid builds up, the pressure inside the eye rises. Unless this pressure is controlled, it may cause damage to the optic nerve and other parts of the eye and result in loss of vision. Open-angle Glaucoma The most common type of glaucoma is called open-angle glaucoma. In the normal eye, the clear fluid leaves the anterior chamber at the open angle where the cornea and iris meet. When fluid reaches the angle, it flows through a spongy meshwork, like a drain, and leaves the eye. Sometimes, when the fluid reaches the angle, it passes too slowly through the meshwork drain, causing the pressure inside the eye to build. If the pressure damages the optic nerve, open-angle glaucoma -- and vision loss -- may result. There is no cure for glaucoma. Vision lost from the disease cannot be restored. However, there are treatments that may save remaining vision. That is why early diagnosis is important.  See this graphic for a quick overview of glaucoma,  including how many people it affects, whos at risk, what to do if you have it, and how to learn more.  See a glossary of glaucoma terms.\u001b[0m\n",
      "\n",
      "\u001b[1;35mThe question is: Who is at risk for Glaucoma? ?\u001b[0m\n",
      "\u001b[1;35m The answer is: Anyone can develop glaucoma. Some people are at higher risk than others. They include - African-Americans over age 40  - everyone over age 60, especially Hispanics/Latinos  - people with a family history of glaucoma. African-Americans over age 40 everyone over age 60, especially Hispanics/Latinos people with a family history of glaucoma.  See this graphic for a quick overview of glaucoma, including how many people it affects, whos at risk, what to do if you have it, and how to learn more.\u001b[0m\n",
      "\n",
      "\u001b[1;33mThe question is: What is (are) High Blood Pressure ?\u001b[0m\n",
      "\u001b[1;33m The answer is: High blood pressure is a common disease in which blood flows through blood vessels (arteries) at higher than normal pressures. What Is Blood Pressure? Blood pressure is the force of blood pushing against the walls of the blood vessels as the heart pumps blood. If your blood pressure rises and stays high over time, its called high blood pressure. High blood pressure is dangerous because it makes the heart work too hard, and the high force of the blood flow can harm arteries and organs such as the heart, kidneys, brain, and eyes. Types of High Blood Pressure There are two main types of high blood pressure: primary and secondary high blood pressure. - Primary, or essential, high blood pressure is the most common type of high blood pressure. This type of high blood pressure tends to develop over years as a person ages.   - Secondary high blood pressure is caused by another medical condition or use of certain medicines. This type usually resolves after the cause is treated or removed. Primary, or essential, high blood pressure is the most common type of high blood pressure. This type of high blood pressure tends to develop over years as a person ages. Secondary high blood pressure is caused by another medical condition or use of certain medicines. This type usually resolves after the cause is treated or removed. Measuring Blood Pressure Blood pressure is always given as two numbers, the systolic and diastolic pressures. Both are important. - Systolic Pressure  is the pressure of blood against the artery walls when the heart beats.  -  Diastolic Pressure is the pressure of blood against the artery walls when the heart is at rest between beats. Systolic Pressure  is the pressure of blood against the artery walls when the heart beats.  Diastolic Pressure is the pressure of blood against the artery walls when the heart is at rest between beats. Usually these numbers are written one above or before the other -- for example, 120/80 mmHg. The top, or first, number is the systolic and the bottom, or second number, is the diastolic. If your blood pressure is 120/80, you say that it is \"120 over 80.\" Normal Blood Pressure Normal blood pressure for adults is defined as a systolic pressure below 120 mmHg and a diastolic pressure below 80 mmHg. It is normal for blood pressures to change when you sleep, wake up, or are excited or nervous. When you are active, it is normal for your blood pressure to increase. However, once the activity stops, your blood pressure returns to your normal baseline range. Blood pressure normally rises with age and body size. Newborn babies often have very low blood pressure numbers that are considered normal for babies, while older teens have numbers similar to adults. Abnormal Blood Pressure Abnormal blood pressure is higher than 120/80 mmHg. If either your systolic or diastolic blood pressure is higher than normal (120/80) but not high enough to be considered high blood pressure (140/90), you have pre-hypertension. Pre-hypertension is a top number between 120 and 139 or a bottom number between 80 and 89 mmHg. For example, blood pressure readings of 138/82, 128/70, or 115/86 are all in the \"pre-hypertension\" range. (Click the table on the right to see the stages of high blood pressure in adults.) A systolic blood pressure of 140 mmHg or higher, or a diastolic blood pressure of 90 mmHg or higher, is considered high blood pressure, or hypertension. Hypertension is the medical term for high blood pressure. If you have diabetes or chronic kidney disease, your recommended blood pressure levels are a systolic blood pressure of 130 mmHg or lower, and a diastolic blood pressure of 80 mmHg or lower. Usually Has No Symptoms High blood pressure is often called \"the silent killer\" because it usually has no symptoms. Occasionally, headaches may occur. Some people may not find out they have high blood pressure until they have trouble with their heart, kidneys, or eyes. When high blood pressure is not diagnosed and treated, it can lead to other life-threatening conditions, including heart attack, heart failure, stroke, and kidney failure. It can also lead to vision changes or blindness. Possible Complications Over Time Over time, high blood pressure can cause - your heart to work too hard and become larger or weaker, which can lead to heart failure.   - small bulges (aneurysms) to worsen in your blood vessels. Common locations for aneurysms are the aorta, which is the main artery from the heart; the arteries in your brain, legs, and intestines; and the artery leading to your spleen.  - blood vessels in your kidneys to narrow, which can cause kidney failure.  - blood vessels in your eyes to burst or bleed, which can cause vision changes and can result in blindness.   - arteries throughout your body to \"harden\" faster, especially those in your heart, brain, kidneys, and legs. This can cause a heart attack, stroke, or kidney failure. your heart to work too hard and become larger or weaker, which can lead to heart failure. small bulges (aneurysms) to worsen in your blood vessels. Common locations for aneurysms are the aorta, which is the main artery from the heart; the arteries in your brain, legs, and intestines; and the artery leading to your spleen. blood vessels in your kidneys to narrow, which can cause kidney failure. blood vessels in your eyes to burst or bleed, which can cause vision changes and can result in blindness. arteries throughout your body to \"harden\" faster, especially those in your heart, brain, kidneys, and legs. This can cause a heart attack, stroke, or kidney failure.\u001b[0m\n",
      "\n",
      "\u001b[1;37mThe question is: What is (are) High Blood Pressure ?\u001b[0m\n",
      "\u001b[1;37m The answer is: High blood pressure is a common disease in which blood flows through blood vessels (arteries) at higher than normal pressures. There are two main types of high blood pressure: primary and secondary high blood pressure. Primary, or essential, high blood pressure is the most common type of high blood pressure. This type of high blood pressure tends to develop over years as a person ages. Secondary high blood pressure is caused by another medical condition or use of certain medicines. This type usually resolves after the cause is treated or removed.\u001b[0m\n",
      "\n",
      "\u001b[1;33mThe question is: How to prevent High Blood Pressure ?\u001b[0m\n",
      "\u001b[1;33m The answer is: Two key measures are used to determine if someone is overweight or obese. These are body mass index, or BMI, and waist circumference. Body mass index (BMI) is a measure of weight in relation to height, and provides an estimate of your total body fat. As your BMI goes up, so do your chances of getting high blood pressure, heart disease, and other health problems. A BMI -  below 18.5 is a sign that you are underweight.  - between 18.5 and 24.9 is in the healthy range.  - between 25 and 29.9 is considered overweight.  - of 30 or more is considered obese.  below 18.5 is a sign that you are underweight. between 18.5 and 24.9 is in the healthy range. between 25 and 29.9 is considered overweight. of 30 or more is considered obese. See the Body Mass Index Table, available from the National Heart, Lung, and Blood Institute (NHLBI). Body mass index (BMI) applies to both men and women, but it does have some limits. - It may overestimate body fat in in someone who is very muscular or who has swelling from fluid retention (called edema)  - It may underestimate body fat in older persons and others who have lost muscle mass. It may overestimate body fat in in someone who is very muscular or who has swelling from fluid retention (called edema) It may underestimate body fat in older persons and others who have lost muscle mass. Thats why waist measurement is often checked as well. Another reason is that too much body fat in the stomach area also increases disease risk. A waist measurement of more than 35 inches in women and more than 40 inches in men is considered high.\u001b[0m\n",
      "\n",
      "\u001b[1;33mThe question is: How to diagnose Paget's Disease of Bone ?\u001b[0m\n",
      "\u001b[1;33m The answer is: An Underdiagnosed Disease Experts believe that Paget's disease is underdiagnosed; people with a mild case and no symptoms may never know they have the disease. Or, they may receive a diagnosis by accident when x-rays or other laboratory tests done for another reason reveal Paget's disease. When symptoms do occur, they usually appear gradually and, in the early stages, may be confused with those of arthritis or other medical problems. Sometimes a person may not receive a clear diagnosis until the disease progresses and complications develop. Diagnostic Tests X-rays are almost always used to diagnose Paget's disease, but the disease may be discovered using one of three tests: - x-rays  -  an alkaline phosphatase blood test  -  or a bone scan. x-rays an alkaline phosphatase blood test or a bone scan. Bones affected by Paget's disease have a distinctive appearance on x-rays, which may show increased bone density, an abnormal bone structure, bowing, and enlargement. X-rays of leg bones may show very tiny fractures called microfractures. The enzyme alkaline phosphatase is involved in the normal growth of new bone. Having higher-than-normal levels of this chemical in the blood, however, may be a sign of Paget's disease. The alkaline phosphatase blood test measures the level of this substance. A bone scan provides a picture of the affected bones that doctors can use to see how far the disease has progressed. If a bone scan done for another reason suggests Paget's disease, the doctor can order x-rays to confirm the diagnosis. If the Disease Runs in the Family Early diagnosis and treatment of Paget's disease is important. Because Paget's disease can be hereditary, some experts recommend that the brothers, sisters, and children of anyone with the disease talk to their doctor about having an alkaline phosphatase blood test every 2 to 3 years after about age 40.\u001b[0m\n",
      "\n"
     ]
    }
   ],
   "source": [
    "import random\n",
    "color_codes = {\n",
    "    \"blue\": 34,\n",
    "    \"green\": 32,\n",
    "    \"red\": 31,\n",
    "    \"purple\": 35,\n",
    "    \"orange\": 33,  \n",
    "    \"yellow\": 33,\n",
    "    \"pink\": 35,   \n",
    "    \"brown\": 33,  \n",
    "    \"gray\": 37\n",
    "}\n",
    "\n",
    "for i in range(0, len(df), 7):\n",
    "    color = random.choice(list(color_codes.values()))\n",
    "    print(f\"\\033[1;{color}mThe question is: {df['question'][i]}\\033[0m\\n\\033[1;{color}m The answer is: {df['answer'][i]}\\033[0m\\n\")\n",
    "    if i > 30:\n",
    "        break"
   ]
  },
  {
   "cell_type": "code",
   "execution_count": 9,
   "metadata": {},
   "outputs": [
    {
     "name": "stdout",
     "output_type": "stream",
     "text": [
      "\u001b[34m\u001b[1m['Glaucoma' 'High Blood Pressure' \"Paget's Disease of Bone\"\n",
      " 'Urinary Tract Infections' 'Alcohol Use and Older Adults'\n",
      " 'Osteoarthritis' 'Problems with Taste' 'Anxiety Disorders' 'Diabetes'\n",
      " 'Medicare and Continuing Care' 'Knee Replacement' 'Balance Problems'\n",
      " 'Quitting Smoking for Older Adults' 'Prostate Cancer' 'Dry Mouth'\n",
      " 'Osteoporosis' 'Kidney Disease' \"Alzheimer's Disease\"\n",
      " 'Rheumatoid Arthritis' 'Hearing Loss' 'Low Vision' 'COPD'\n",
      " 'Age-related Macular Degeneration' 'Diabetic Retinopathy' 'Depression'\n",
      " 'Problems with Smell' 'Breast Cancer' 'Colorectal Cancer'\n",
      " \"Parkinson's Disease\" 'Leukemia' 'Lung Cancer' 'Urinary Incontinence']\u001b[0m\n"
     ]
    }
   ],
   "source": [
    "unique_focus_area = df['focus_area'][:500].unique()\n",
    "print(f\"\\033[34m\\033[1m{unique_focus_area}\\033[0m\")"
   ]
  },
  {
   "cell_type": "code",
   "execution_count": 10,
   "metadata": {},
   "outputs": [
    {
     "name": "stdout",
     "output_type": "stream",
     "text": [
      "\u001b[45mQuestion:                                                                       \u001b[0m\n",
      "What causes Glaucoma ?\n",
      "\n",
      "\u001b[46mAnswer:                                                                         \u001b[0m\n",
      "Nearly 2.7 million people have glaucoma, a leading cause of\n",
      "blindness in the United States. Although anyone can get\n",
      "glaucoma, some people are at higher risk. They include -\n",
      "African-Americans over age 40 - everyone over age 60, especially\n",
      "Hispanics/Latinos - people with a family history of glaucoma.\n",
      "African-Americans over age 40 everyone over age 60, especially\n",
      "Hispanics/Latinos people with a family history of glaucoma. In\n",
      "addition to age, eye pressure is a risk factor. Whether you\n",
      "develop glaucoma depends on the level of pressure your optic\n",
      "nerve can tolerate without being damaged. This level is\n",
      "different for each person. Thats why a comprehensive dilated eye\n",
      "exam is very important. It can help your eye care professional\n",
      "determine what level of eye pressure is normal for you. Another\n",
      "risk factor for optic nerve damage relates to blood pressure.\n",
      "Thus, it is important to also make sure that your blood pressure\n",
      "is at a proper level for your body by working with your medical\n",
      "doctor. (Watch the animated video to learn more about the causes\n",
      "of glaucoma. To enlarge the video, click the brackets in the\n",
      "lower right-hand corner. To reduce the video, press the Escape\n",
      "(Esc) button on your keyboard.)\n",
      "\n",
      "\u001b[43mFocus Area:                                                                     \u001b[0m\n",
      "Glaucoma\n",
      "\n"
     ]
    }
   ],
   "source": [
    "import shutil\n",
    "\n",
    "def get_terminal_width():\n",
    "    \"\"\"Get the width of the terminal.\"\"\"\n",
    "    return shutil.get_terminal_size().columns\n",
    "\n",
    "def wrap_text(text, width):\n",
    "    \"\"\"Wrap text to fit within a given width.\"\"\"\n",
    "    words = text.split()\n",
    "    lines = []\n",
    "    current_line = []\n",
    "    current_length = 0\n",
    "    for word in words:\n",
    "        if current_length + len(word) + 1 > width:\n",
    "            lines.append(' '.join(current_line))\n",
    "            current_line = [word]\n",
    "            current_length = len(word)\n",
    "        else:\n",
    "            current_line.append(word)\n",
    "            current_length += len(word) + 1\n",
    "    lines.append(' '.join(current_line))\n",
    "    return lines\n",
    "\n",
    "def display_full_width_row(df, index):\n",
    "    \"\"\"Display a row from the DataFrame with full-width answer and alternate coloring.\"\"\"\n",
    "    question = df['question'][index]\n",
    "    answer = df['answer'][index]\n",
    "    focus_area = df['focus_area'][index]\n",
    "    \n",
    "    width = get_terminal_width()\n",
    "    question_width = width - 12  # Adjust for \"Question: \" prefix\n",
    "    answer_width = width - 16    # Adjust for \"Answer: \" prefix\n",
    "    focus_width = width - 14     # Adjust for \"Focus Area: \" prefix\n",
    "    \n",
    "    # Wrap text to fit within the calculated widths\n",
    "    wrapped_question = wrap_text(question, question_width)\n",
    "    wrapped_answer = wrap_text(answer, answer_width)\n",
    "    wrapped_focus = wrap_text(focus_area, focus_width)\n",
    "    \n",
    "    # Print with alternate coloring using background colors\n",
    "    print(\"\\033[45m\" + \"Question:\".ljust(width) + \"\\033[0m\")  # Magenta background\n",
    "    for line in wrapped_question:\n",
    "        print(line)\n",
    "    print()\n",
    "    \n",
    "    print(\"\\033[46m\" + \"Answer:\".ljust(width) + \"\\033[0m\")    # Cyan background\n",
    "    for line in wrapped_answer:\n",
    "        print(line)\n",
    "    print()\n",
    "    \n",
    "    print(\"\\033[43m\" + \"Focus Area:\".ljust(width) + \"\\033[0m\")  # Yellow background\n",
    "    for line in wrapped_focus:\n",
    "        print(line)\n",
    "    print()\n",
    "\n",
    "display_full_width_row(df, 1)"
   ]
  },
  {
   "cell_type": "code",
   "execution_count": 11,
   "metadata": {},
   "outputs": [
    {
     "name": "stdout",
     "output_type": "stream",
     "text": [
      "Dataset loaded successfully.\n",
      "Initializing the model and tokenizer...\n"
     ]
    },
    {
     "data": {
      "application/vnd.jupyter.widget-view+json": {
       "model_id": "36e753b660184e228848a8fcbe5c9db0",
       "version_major": 2,
       "version_minor": 0
      },
      "text/plain": [
       "model.safetensors:   0%|          | 0.00/1.34G [00:00<?, ?B/s]"
      ]
     },
     "metadata": {},
     "output_type": "display_data"
    },
    {
     "name": "stderr",
     "output_type": "stream",
     "text": [
      "Some weights of the model checkpoint at bert-large-uncased-whole-word-masking-finetuned-squad were not used when initializing BertForQuestionAnswering: ['bert.pooler.dense.bias', 'bert.pooler.dense.weight']\n",
      "- This IS expected if you are initializing BertForQuestionAnswering from the checkpoint of a model trained on another task or with another architecture (e.g. initializing a BertForSequenceClassification model from a BertForPreTraining model).\n",
      "- This IS NOT expected if you are initializing BertForQuestionAnswering from the checkpoint of a model that you expect to be exactly identical (initializing a BertForSequenceClassification model from a BertForSequenceClassification model).\n"
     ]
    },
    {
     "name": "stdout",
     "output_type": "stream",
     "text": [
      "Model and tokenizer initialized.\n",
      "\n",
      "Processing the first question from the dataset as an example:\n",
      "Question: What is (are) Glaucoma ?\n",
      "Context: Glaucoma is a group of diseases that can damage the eye's optic nerve and result in vision loss and blindness. While glaucoma can strike anyone, the risk is much greater for people over 60. How Glaucoma Develops  There are several different types of glaucoma. Most of these involve the drainage system within the eye. At the front of the eye there is a small space called the anterior chamber. A clear fluid flows through this chamber and bathes and nourishes the nearby tissues. (Watch the video to learn more about glaucoma. To enlarge the video, click the brackets in the lower right-hand corner. To reduce the video, press the Escape (Esc) button on your keyboard.) In glaucoma, for still unknown reasons, the fluid drains too slowly out of the eye. As the fluid builds up, the pressure inside the eye rises. Unless this pressure is controlled, it may cause damage to the optic nerve and other parts of the eye and result in loss of vision. Open-angle Glaucoma The most common type of glaucoma is called open-angle glaucoma. In the normal eye, the clear fluid leaves the anterior chamber at the open angle where the cornea and iris meet. When fluid reaches the angle, it flows through a spongy meshwork, like a drain, and leaves the eye. Sometimes, when the fluid reaches the angle, it passes too slowly through the meshwork drain, causing the pressure inside the eye to build. If the pressure damages the optic nerve, open-angle glaucoma -- and vision loss -- may result. There is no cure for glaucoma. Vision lost from the disease cannot be restored. However, there are treatments that may save remaining vision. That is why early diagnosis is important.  See this graphic for a quick overview of glaucoma,  including how many people it affects, whos at risk, what to do if you have it, and how to learn more.  See a glossary of glaucoma terms.\n",
      "\u001b[91mAnswer:\u001b[0m\n",
      "\u001b[91m==================================================\u001b[0m\n",
      "\u001b[91ma group of diseases that can damage the eye ' s optic nerve and result in vision loss and blindness\u001b[0m\n",
      "\u001b[91m==================================================\u001b[0m\n",
      "\n",
      "Now entering interactive mode. You can ask your own medical questions.\n",
      "Sorry, I couldn't find a relevant context for your question.\n",
      "\n",
      "Sorry, I couldn't find a relevant context for your question.\n",
      "\n",
      "Sorry, I couldn't find a relevant context for your question.\n",
      "\n",
      "Sorry, I couldn't find a relevant context for your question.\n",
      "\n",
      "Sorry, I couldn't find a relevant context for your question.\n",
      "\n",
      "Sorry, I couldn't find a relevant context for your question.\n",
      "\n",
      "\u001b[0mThank you for using the MedQuAD Question Answering System!\n"
     ]
    }
   ],
   "source": [
    "import pandas as pd\n",
    "from transformers import AutoTokenizer, AutoModelForQuestionAnswering\n",
    "import torch\n",
    "import warnings\n",
    "warnings.filterwarnings('ignore')\n",
    "\n",
    "# ANSI escape codes for text color\n",
    "RED = '\\033[91m'\n",
    "RESET = '\\033[0m'\n",
    "\n",
    "# Load the dataset\n",
    "print(\"Dataset loaded successfully.\")\n",
    "\n",
    "# Initialize the model and tokenizer\n",
    "print(\"Initializing the model and tokenizer...\")\n",
    "model_name = \"bert-large-uncased-whole-word-masking-finetuned-squad\"\n",
    "tokenizer = AutoTokenizer.from_pretrained(model_name)\n",
    "model = AutoModelForQuestionAnswering.from_pretrained(model_name)\n",
    "print(\"Model and tokenizer initialized.\")\n",
    "\n",
    "def answer_question(question, context):\n",
    "    # Tokenize the input\n",
    "    inputs = tokenizer.encode_plus(question, context, return_tensors=\"pt\", max_length=512, truncation=True)\n",
    "    \n",
    "    # Get the model's answer\n",
    "    with torch.no_grad():\n",
    "        outputs = model(**inputs)\n",
    "    \n",
    "    # Process the output\n",
    "    answer_start = torch.argmax(outputs.start_logits)\n",
    "    answer_end = torch.argmax(outputs.end_logits) + 1\n",
    "    \n",
    "    # Get the tokens for the entire input\n",
    "    all_tokens = tokenizer.convert_ids_to_tokens(inputs[\"input_ids\"][0])\n",
    "    \n",
    "    # Extract the answer tokens\n",
    "    answer_tokens = all_tokens[answer_start:answer_end]\n",
    "    \n",
    "    # Convert answer tokens back to text\n",
    "    answer = tokenizer.convert_tokens_to_string(answer_tokens)\n",
    "    \n",
    "    # Clean up the answer\n",
    "    answer = answer.strip()\n",
    "    \n",
    "    # If the answer is empty or just punctuation, return a message\n",
    "    if not answer or answer.strip('.,;:!?') == '':\n",
    "        return \"I'm sorry, I couldn't find a specific answer in the given context.\"\n",
    "    \n",
    "    return answer\n",
    "\n",
    "def print_colored_answer(answer):\n",
    "    print(f\"{RED}Answer:{RESET}\")\n",
    "    print(f\"{RED}{'=' * 50}{RESET}\")\n",
    "    print(f\"{RED}{answer}{RESET}\")\n",
    "    print(f\"{RED}{'=' * 50}{RESET}\")\n",
    "\n",
    "print(\"\\nProcessing the first question from the dataset as an example:\")\n",
    "# Example usage with the first row of the dataset\n",
    "first_row = df.iloc[0]\n",
    "question = first_row['question']\n",
    "context = first_row['answer']\n",
    "\n",
    "print(f\"Question: {question}\")\n",
    "print(f\"Context: {context}\")  # Print the full context\n",
    "\n",
    "answer = answer_question(question, context)\n",
    "print_colored_answer(answer)\n",
    "print()\n",
    "\n",
    "print(\"Now entering interactive mode. You can ask your own medical questions.\")\n",
    "# Interactive loop for user questions\n",
    "while True:\n",
    "    user_question = input(\"Enter your medical question (or 'quit' to exit): \")\n",
    "    if user_question.lower() == 'quit':\n",
    "        break\n",
    "    \n",
    "    # Find the most relevant context (simple approach: exact match)\n",
    "    relevant_rows = df[df['question'].str.contains(user_question, case=False, na=False)]\n",
    "    \n",
    "    if not relevant_rows.empty:\n",
    "        for _, row in relevant_rows.iterrows():\n",
    "            context = row['answer']\n",
    "            print(f\"\\nFound relevant context: {context[:100]}...\")  # Print first 100 characters of context\n",
    "            print(\"Full context:\")\n",
    "            print(context)\n",
    "            answer = answer_question(user_question, context)\n",
    "            print_colored_answer(answer)\n",
    "            \n",
    "            user_input = input(\"Is this answer helpful? (yes/no): \").lower()\n",
    "            if user_input == 'yes':\n",
    "                break\n",
    "        else:\n",
    "            print(\"Sorry, none of the answers were helpful.\")\n",
    "    else:\n",
    "        print(\"Sorry, I couldn't find a relevant context for your question.\")\n",
    "    print()\n",
    "\n",
    "print(f\"{RESET}Thank you for using the MedQuAD Question Answering System!\")"
   ]
  }
 ],
 "metadata": {
  "kernelspec": {
   "display_name": "Python 3",
   "language": "python",
   "name": "python3"
  },
  "language_info": {
   "codemirror_mode": {
    "name": "ipython",
    "version": 3
   },
   "file_extension": ".py",
   "mimetype": "text/x-python",
   "name": "python",
   "nbconvert_exporter": "python",
   "pygments_lexer": "ipython3",
   "version": "3.11.4"
  }
 },
 "nbformat": 4,
 "nbformat_minor": 2
}
